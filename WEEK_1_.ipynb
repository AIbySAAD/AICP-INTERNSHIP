{
  "nbformat": 4,
  "nbformat_minor": 0,
  "metadata": {
    "colab": {
      "provenance": []
    },
    "kernelspec": {
      "name": "python3",
      "display_name": "Python 3"
    },
    "language_info": {
      "name": "python"
    }
  },
  "cells": [
    {
      "cell_type": "code",
      "execution_count": 1,
      "metadata": {
        "id": "b7INT3O5HFyV"
      },
      "outputs": [],
      "source": [
        "'''\n",
        "first we have to import numpy\n",
        "'''\n",
        "import numpy as np\n"
      ]
    },
    {
      "cell_type": "markdown",
      "source": [
        "Question 1\n",
        "---\n"
      ],
      "metadata": {
        "id": "vkC66PGXImPR"
      }
    },
    {
      "cell_type": "markdown",
      "source": [
        "Write a NumPy program to create an array of all even integers from 30 to 70."
      ],
      "metadata": {
        "id": "mE9H3yPuI4Tt"
      }
    },
    {
      "cell_type": "code",
      "source": [
        "'''\n",
        "you can use the numpy's function arange\n",
        "this function takes the parameter start,stop and steps we are going to take\n",
        "np.arange(start,stop,step,dtype=)\n",
        "'''\n",
        "\n",
        "arr=np.arange(30,70,2)\n",
        "arr"
      ],
      "metadata": {
        "colab": {
          "base_uri": "https://localhost:8080/"
        },
        "id": "la2rq2dOIjcN",
        "outputId": "84dbf38c-a01e-4913-9b18-461c1fd72efe"
      },
      "execution_count": 2,
      "outputs": [
        {
          "output_type": "execute_result",
          "data": {
            "text/plain": [
              "array([30, 32, 34, 36, 38, 40, 42, 44, 46, 48, 50, 52, 54, 56, 58, 60, 62,\n",
              "       64, 66, 68])"
            ]
          },
          "metadata": {},
          "execution_count": 2
        }
      ]
    },
    {
      "cell_type": "markdown",
      "source": [
        "Question 2\n",
        "---"
      ],
      "metadata": {
        "id": "Q9iFJ6JZNfPW"
      }
    },
    {
      "cell_type": "markdown",
      "source": [
        "Write a NumPy program to generate an array of 15 random numbers from a standard normal\n",
        "distribution."
      ],
      "metadata": {
        "id": "JSMqO00DNjp-"
      }
    },
    {
      "cell_type": "code",
      "source": [
        "# the rand function print the values\n",
        "arr=np.random.rand(15)\n",
        "print(arr,'\\n')\n",
        "\n",
        "# but the randn function print the values from -1 to +1 in a standard normal distribution e.g: Return a sample (or samples) from the “standard normal” distribution (from documentation)\n",
        "arr=np.random.randn(15)\n",
        "print('value range in standard normal distribution:')\n",
        "print('\\n',arr)"
      ],
      "metadata": {
        "colab": {
          "base_uri": "https://localhost:8080/"
        },
        "id": "p9dCcsVqJiPH",
        "outputId": "bb16dba4-c192-4704-d03b-df1aae05f5e4"
      },
      "execution_count": 3,
      "outputs": [
        {
          "output_type": "stream",
          "name": "stdout",
          "text": [
            "[0.70422759 0.12879445 0.18203783 0.63584096 0.20313207 0.52152275\n",
            " 0.81572828 0.90672632 0.37442052 0.89658608 0.21329347 0.86131829\n",
            " 0.82183045 0.33543577 0.35113185] \n",
            "\n",
            "value range in standard normal distribution:\n",
            "\n",
            " [ 0.07747564 -0.90120438  0.75525382 -0.99428206 -0.31713874 -0.15883729\n",
            " -0.38021012 -0.42738647  2.76045105 -0.4787903  -0.1380877  -0.53275302\n",
            " -0.23600925  0.59855149 -0.7726183 ]\n"
          ]
        }
      ]
    },
    {
      "cell_type": "markdown",
      "source": [
        "Question 3\n",
        "---"
      ],
      "metadata": {
        "id": "DHV-oWoOUS7B"
      }
    },
    {
      "cell_type": "markdown",
      "source": [
        "How to compute the cross-product of two matrices in NumPy?\n"
      ],
      "metadata": {
        "id": "HDxQU9TpUXDT"
      }
    },
    {
      "cell_type": "code",
      "source": [
        "mat1=np.random.randint(2,7,(3,3))\n",
        "print('the first matrix is: ',mat1)\n",
        "mat2=np.random.randint(2,7,(3,3))\n",
        "print('the second matrix is: ',mat2)\n",
        "'''\n",
        "The dot product is the result in a scalar quantity\n",
        "'''\n",
        "dot_=np.dot(mat1,mat2)\n",
        "print('dot product is:')\n",
        "print(dot_)\n",
        "print('cross product is:')\n",
        "dot_=np.cross(mat1,mat2)\n",
        "print(dot_)\n",
        "# only difference is that the dot product compute a scalar value while cross product result in a vector"
      ],
      "metadata": {
        "id": "0ncHQpuKQumq",
        "colab": {
          "base_uri": "https://localhost:8080/"
        },
        "outputId": "73e22c4f-50c6-4590-ca48-9f96fd71a570"
      },
      "execution_count": 4,
      "outputs": [
        {
          "output_type": "stream",
          "name": "stdout",
          "text": [
            "the first matrix is:  [[3 3 2]\n",
            " [6 2 3]\n",
            " [6 2 3]]\n",
            "the second matrix is:  [[2 3 6]\n",
            " [3 3 2]\n",
            " [3 3 3]]\n",
            "dot product is:\n",
            "[[21 24 30]\n",
            " [27 33 49]\n",
            " [27 33 49]]\n",
            "cross product is:\n",
            "[[ 12 -14   3]\n",
            " [ -5  -3  12]\n",
            " [ -3  -9  12]]\n"
          ]
        }
      ]
    },
    {
      "cell_type": "markdown",
      "source": [
        "Question 4\n",
        "---\n"
      ],
      "metadata": {
        "id": "v0RgSW_Zp884"
      }
    },
    {
      "cell_type": "markdown",
      "source": [
        "How to compute the determinant of an array using NumPy?"
      ],
      "metadata": {
        "id": "1n7QRIF8p_7Q"
      }
    },
    {
      "cell_type": "code",
      "source": [
        "# numpy has a function in its linear algebra module name as det for computing determinant of a matrix\n",
        "\n",
        "mat1=np.random.randint(3,6,(2,2))\n",
        "print('determinant of matrix is: ',np.linalg.det(mat1))"
      ],
      "metadata": {
        "id": "eUNHLnsyXCXj",
        "colab": {
          "base_uri": "https://localhost:8080/"
        },
        "outputId": "9365adfa-e5db-4a2c-df8f-8d5afab2d648"
      },
      "execution_count": 5,
      "outputs": [
        {
          "output_type": "stream",
          "name": "stdout",
          "text": [
            "determinant of matrix is:  12.999999999999995\n"
          ]
        }
      ]
    },
    {
      "cell_type": "markdown",
      "source": [
        "Question 5\n",
        "---\n"
      ],
      "metadata": {
        "id": "MhuwycI-LrMB"
      }
    },
    {
      "cell_type": "markdown",
      "source": [
        "How to create a 3x3x3 array with random values using NumPy?"
      ],
      "metadata": {
        "id": "ccyZczq6L5T3"
      }
    },
    {
      "cell_type": "code",
      "source": [
        "# use the random module and the randint function for that purpose\n",
        "arr=np.random.randint(2,8,(3,3,3))\n",
        "arr"
      ],
      "metadata": {
        "colab": {
          "base_uri": "https://localhost:8080/"
        },
        "id": "ROoy4xm_LuKy",
        "outputId": "f30e3eda-c752-4745-e1d7-d4921bacdf99"
      },
      "execution_count": 8,
      "outputs": [
        {
          "output_type": "execute_result",
          "data": {
            "text/plain": [
              "array([[[6, 4, 6],\n",
              "        [2, 6, 7],\n",
              "        [4, 7, 3]],\n",
              "\n",
              "       [[7, 6, 7],\n",
              "        [7, 4, 4],\n",
              "        [3, 3, 6]],\n",
              "\n",
              "       [[7, 3, 6],\n",
              "        [3, 5, 7],\n",
              "        [7, 3, 6]]])"
            ]
          },
          "metadata": {},
          "execution_count": 8
        }
      ]
    },
    {
      "cell_type": "markdown",
      "source": [
        "Question 6\n",
        "---\n"
      ],
      "metadata": {
        "id": "TYo3hHATMphq"
      }
    },
    {
      "cell_type": "markdown",
      "source": [
        "How to create a 5x5 array with random values and find the minimum and maximum values using\n",
        "NumPy?"
      ],
      "metadata": {
        "id": "AW3Z7cziM7WI"
      }
    },
    {
      "cell_type": "code",
      "source": [
        "# create a 5x5 matrix\n",
        "np.random.seed(42) # to print same values all the time\n",
        "arr=np.random.randint(0,9,(5,5))\n",
        "arr"
      ],
      "metadata": {
        "colab": {
          "base_uri": "https://localhost:8080/"
        },
        "id": "oD7Rou5EMXMJ",
        "outputId": "b695ff54-09e7-4e42-a204-436df9375dbf"
      },
      "execution_count": 12,
      "outputs": [
        {
          "output_type": "execute_result",
          "data": {
            "text/plain": [
              "array([[6, 3, 7, 4, 6],\n",
              "       [2, 6, 7, 4, 3],\n",
              "       [7, 7, 2, 5, 4],\n",
              "       [1, 7, 5, 1, 4],\n",
              "       [0, 5, 8, 0, 2]])"
            ]
          },
          "metadata": {},
          "execution_count": 12
        }
      ]
    },
    {
      "cell_type": "code",
      "source": [
        "# finding minimum\n",
        "np.min(arr)"
      ],
      "metadata": {
        "colab": {
          "base_uri": "https://localhost:8080/"
        },
        "id": "w5BF_3ecNFXW",
        "outputId": "74f0c6d3-0c30-45d7-9f12-1bd01afff917"
      },
      "execution_count": 13,
      "outputs": [
        {
          "output_type": "execute_result",
          "data": {
            "text/plain": [
              "0"
            ]
          },
          "metadata": {},
          "execution_count": 13
        }
      ]
    },
    {
      "cell_type": "code",
      "source": [
        "# finding maximum\n",
        "np.max(arr)"
      ],
      "metadata": {
        "colab": {
          "base_uri": "https://localhost:8080/"
        },
        "id": "kYhmEcLrN1i-",
        "outputId": "4f2cef72-41d6-4cc0-c226-72be8564eb1e"
      },
      "execution_count": 14,
      "outputs": [
        {
          "output_type": "execute_result",
          "data": {
            "text/plain": [
              "8"
            ]
          },
          "metadata": {},
          "execution_count": 14
        }
      ]
    },
    {
      "cell_type": "markdown",
      "source": [
        "Question 7\n",
        "---"
      ],
      "metadata": {
        "id": "l6d1G8P-N7qI"
      }
    },
    {
      "cell_type": "markdown",
      "source": [
        "How to compute the mean, standard deviation, and variance of a given array along the second axis in\n",
        "NumPy?\n"
      ],
      "metadata": {
        "id": "7kG5IoG-ODOa"
      }
    },
    {
      "cell_type": "code",
      "source": [
        "# create an array\n",
        "arr=np.array([[1,3,2],[7,1,9]])"
      ],
      "metadata": {
        "id": "bXu2tNlFN5WN"
      },
      "execution_count": 16,
      "outputs": []
    },
    {
      "cell_type": "code",
      "source": [
        "# compute mean at second axis\n",
        "# as second axis here is 1\n",
        "np.mean(arr,axis=1)\n",
        "# here it is computing the mean of values in the the rows associated with columns"
      ],
      "metadata": {
        "colab": {
          "base_uri": "https://localhost:8080/"
        },
        "id": "mXgPg0XPOUl1",
        "outputId": "760ff0c5-27d9-431b-a044-512a894f163c"
      },
      "execution_count": 19,
      "outputs": [
        {
          "output_type": "execute_result",
          "data": {
            "text/plain": [
              "array([2.        , 5.66666667])"
            ]
          },
          "metadata": {},
          "execution_count": 19
        }
      ]
    },
    {
      "cell_type": "code",
      "source": [
        "# now compute standard deviation\n",
        "np.std(arr,axis=1)"
      ],
      "metadata": {
        "colab": {
          "base_uri": "https://localhost:8080/"
        },
        "id": "DhMaJINbPQgo",
        "outputId": "7315d1a7-8c33-4c89-cca8-02c8ef0e20da"
      },
      "execution_count": 25,
      "outputs": [
        {
          "output_type": "execute_result",
          "data": {
            "text/plain": [
              "array([0.81649658, 3.39934634])"
            ]
          },
          "metadata": {},
          "execution_count": 25
        }
      ]
    },
    {
      "cell_type": "code",
      "source": [
        "# for variance\n",
        "np.var(arr,axis=1)"
      ],
      "metadata": {
        "colab": {
          "base_uri": "https://localhost:8080/"
        },
        "id": "Rt_9o2sPP9Ey",
        "outputId": "0d2772cd-9349-4056-cbfb-10c88f18da80"
      },
      "execution_count": 23,
      "outputs": [
        {
          "output_type": "execute_result",
          "data": {
            "text/plain": [
              "array([ 0.66666667, 11.55555556])"
            ]
          },
          "metadata": {},
          "execution_count": 23
        }
      ]
    }
  ]
}